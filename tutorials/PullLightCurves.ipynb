{
 "cells": [
  {
   "cell_type": "markdown",
   "metadata": {},
   "source": [
    "Here I'll just grab a single point in the sky and look at what some possible light curves could look like. This could be handy if one wanted to test and refine some algorithms for deciding how good a light curve is."
   ]
  },
  {
   "cell_type": "code",
   "execution_count": 1,
   "metadata": {
    "collapsed": true
   },
   "outputs": [],
   "source": [
    "%matplotlib inline\n",
    "import numpy as np\n",
    "import matplotlib.pyplot as plt\n",
    "import healpy as hp\n",
    "import lsst.sims.maf.db as db\n",
    "import lsst.sims.maf.utils as utils\n",
    "import lsst.sims.maf.metrics as metrics\n",
    "import lsst.sims.maf.slicers as slicers\n",
    "import lsst.sims.maf.metricBundles as metricBundles"
   ]
  },
  {
   "cell_type": "code",
   "execution_count": 2,
   "metadata": {
    "collapsed": true
   },
   "outputs": [],
   "source": [
    "outDir ='LightCurve'\n",
    "# dbFile = 'enigma_1189_sqlite.db'\n",
    "dbFile = 'colossus_2203.db'\n",
    "# opsimdb = utils.connectOpsimDb(dbFile)\n",
    "opsimdb = db.OpsimDatabase(dbFile)\n",
    "resultsDb = db.ResultsDb(outDir=outDir)"
   ]
  },
  {
   "cell_type": "code",
   "execution_count": 3,
   "metadata": {
    "collapsed": true
   },
   "outputs": [],
   "source": [
    "filters = ['u','g','r','i','z','y']\n",
    "colors={'u':'cyan','g':'g','r':'y','i':'r','z':'m', 'y':'k'}"
   ]
  },
  {
   "cell_type": "markdown",
   "metadata": {},
   "source": [
    "**Parameters to set**"
   ]
  },
  {
   "cell_type": "code",
   "execution_count": 4,
   "metadata": {
    "collapsed": true
   },
   "outputs": [],
   "source": [
    "# Set RA, Dec for a single point in the sky. in radians.\n",
    "# ra = np.radians(0.)\n",
    "# dec = np.radians(0.)\n",
    "\n",
    "# In v4 dataset, ra/dec are in degree\n",
    "ra, dec = 0., 0.\n",
    "\n",
    "# SNR limit (Don't use points below this limit)\n",
    "snrLimit = 5.\n",
    "# Demand this many points above SNR limit before plotting LC\n",
    "nPtsLimit = 6"
   ]
  },
  {
   "cell_type": "code",
   "execution_count": 5,
   "metadata": {
    "collapsed": true
   },
   "outputs": [],
   "source": [
    "# The pass metric just passes data straight through.\n",
    "metric = metrics.PassMetric(cols=['filter','fiveSigmaDepth','observationStartMJD'])\n",
    "slicer = slicers.UserPointsSlicer(ra,dec,lonCol='ditheredRA',latCol='ditheredDec')\n",
    "sql = ''\n",
    "bundle = metricBundles.MetricBundle(metric,slicer,sql)\n",
    "bg =  metricBundles.MetricBundleGroup({0:bundle}, opsimdb,\n",
    "                                      outDir=outDir, resultsDb=resultsDb)"
   ]
  },
  {
   "cell_type": "code",
   "execution_count": 6,
   "metadata": {},
   "outputs": [
    {
     "name": "stdout",
     "output_type": "stream",
     "text": [
      "Querying database SummaryAllProps with no constraint for columns ['filter', 'fieldDec', 'fieldId', 'fieldRA', 'fiveSigmaDepth', 'observationStartMJD', 'night'].\n",
      "Found 442614 visits\n",
      "Running:  [0]\n",
      "Completed metric generation.\n",
      "Running reduce methods.\n",
      "Running summary statistics.\n",
      "Completed.\n"
     ]
    }
   ],
   "source": [
    "bg.runAll()"
   ]
  },
  {
   "cell_type": "code",
   "execution_count": 7,
   "metadata": {},
   "outputs": [
    {
     "data": {
      "text/plain": [
       "array(['z', 'z', 'y', 'y', 'y', 'y', 'y', 'y', 'y', 'z', 'y', 'z', 'y',\n",
       "       'y', 'y', 'y', 'z', 'y', 'y', 'y', 'z', 'y', 'u', 'z', 'z', 'y'],\n",
       "      dtype='<U256')"
      ]
     },
     "execution_count": 7,
     "metadata": {},
     "output_type": "execute_result"
    }
   ],
   "source": [
    "bundle.metricValues.data[0]['filter']"
   ]
  },
  {
   "cell_type": "code",
   "execution_count": 8,
   "metadata": {},
   "outputs": [
    {
     "data": {
      "text/plain": [
       "<matplotlib.legend.Legend at 0x7fa7ee1274a8>"
      ]
     },
     "execution_count": 8,
     "metadata": {},
     "output_type": "execute_result"
    },
    {
     "data": {
      "image/png": "[encoded data removed]",
      "text/plain": [
       "<matplotlib.figure.Figure at 0x7fa7ee127518>"
      ]
     },
     "metadata": {},
     "output_type": "display_data"
    }
   ],
   "source": [
    "dayZero = bundle.metricValues.data[0]['observationStartMJD'].min()\n",
    "for fname in filters:\n",
    "    good = np.where(bundle.metricValues.data[0]['filter'] == fname)\n",
    "    plt.scatter(bundle.metricValues.data[0]['observationStartMJD'][good]- dayZero, \n",
    "                bundle.metricValues.data[0]['fiveSigmaDepth'][good],\n",
    "                c = colors[fname], label=fname)\n",
    "plt.xlabel('Day')\n",
    "plt.ylabel('5$\\sigma$ depth')\n",
    "plt.legend(scatterpoints=1, loc=\"upper left\", bbox_to_anchor=(1,1))"
   ]
  },
  {
   "cell_type": "code",
   "execution_count": 9,
   "metadata": {},
   "outputs": [
    {
     "name": "stdout",
     "output_type": "stream",
     "text": [
      "26 Observations total at this point (All SNR levels)\n",
      "1 Observations in u\n",
      "0 Observations in g\n",
      "0 Observations in r\n",
      "0 Observations in i\n",
      "8 Observations in z\n",
      "17 Observations in y\n"
     ]
    }
   ],
   "source": [
    "print ('%i Observations total at this point (All SNR levels)' % bundle.metricValues.data[0].size)\n",
    "for fname in filters:\n",
    "    good = np.where(bundle.metricValues.data[0]['filter'] == fname)\n",
    "    print ('%i Observations in %s' % (good[0].size, fname))"
   ]
  },
  {
   "cell_type": "code",
   "execution_count": 10,
   "metadata": {},
   "outputs": [],
   "source": [
    "data = bundle.metricValues.data[0]\n",
    "peakTime = 15\n",
    "transDuration = peakTime+30 # Days\n",
    "peaks = {'uPeak':25.9, 'gPeak':23.6, 'rPeak':22.6, 'iPeak':22.7, 'zPeak':22.7,'yPeak':22.8}\n",
    "transMetric = metrics.TransientMetric(riseSlope= -2./peakTime, declineSlope=1.4/30.0, \n",
    "                                      transDuration=transDuration, peakTime=peakTime, \n",
    "                                      surveyDuration=10, **peaks)\n",
    "lc = transMetric.lightCurve((data['observationStartMJD']-dayZero) % transDuration, data['filter'])\n",
    "snr = utils.m52snr(lc,data['fiveSigmaDepth'])\n",
    "lc_err = 2.5*np.log10(1.+1./snr)"
   ]
  },
  {
   "cell_type": "markdown",
   "metadata": {},
   "source": []
  },
  {
   "cell_type": "code",
   "execution_count": 11,
   "metadata": {},
   "outputs": [
    {
     "name": "stdout",
     "output_type": "stream",
     "text": [
      "Fraction of LCs that meet criteria and plotted = 0/11\n"
     ]
    }
   ],
   "source": [
    "numOfLCs = np.ceil((data['observationStartMJD'].max()-data['observationStartMJD'].min())/transDuration)\n",
    "plotCounter = 0\n",
    "outputToASCII = True\n",
    "\n",
    "for lcn in np.arange(0,numOfLCs+1,1):\n",
    "    good = np.where(( data['observationStartMJD'] >= data['observationStartMJD'].min()+transDuration*lcn)\n",
    "                       & ( data['observationStartMJD'] <= data['observationStartMJD'].min()+transDuration*(1+lcn))\n",
    "                       & (snr > snrLimit))\n",
    "    if good[0].size >= nPtsLimit:\n",
    "        if outputToASCII:\n",
    "            outfile = open('lc_%i.dat' % lcn, 'w')\n",
    "            print >>outfile, 'observationStartMJD  filter  mag  magErr'\n",
    "            for i,mag in enumerate(data['observationStartMJD'][good]):\n",
    "                print >>outfile, '%f  %s  %f  %f' % (data['observationStartMJD'][good][i], data['filter'][good][i],\n",
    "                                                    lc[good][i], lc_err[good][i])\n",
    "            outfile.close()\n",
    "        plotCounter += 1\n",
    "        plt.figure()\n",
    "        # Counter\n",
    "        numPoints = 0\n",
    "        for filterName in filters:\n",
    "            good = np.where((data['filter'] == filterName) & \n",
    "                            ( data['observationStartMJD'] >= data['observationStartMJD'].min()+transDuration*lcn)\n",
    "                           & ( data['observationStartMJD'] <= data['observationStartMJD'].min()+transDuration*(1+lcn))\n",
    "                           & (snr > snrLimit))\n",
    "            plt.errorbar(data['observationStartMJD'][good]-dayZero, lc[good], yerr=lc_err[good], \n",
    "                         c=colors[filterName], marker='o', linestyle='None')\n",
    "            numPoints += good[0].size\n",
    "        explodeDate=data['observationStartMJD'].min()+transDuration*lcn\n",
    "        plt.xlim([explodeDate-dayZero,explodeDate+transDuration-dayZero])\n",
    "        plt.xlabel('day')\n",
    "        plt.ylabel('mag')\n",
    "        plt.title('light curve #%i, %i points in curve ' % (lcn, numPoints))\n",
    "        plt.ylim([25., 22.5])\n",
    "print ('Fraction of LCs that meet criteria and plotted = %i/%i' % (plotCounter, numOfLCs))"
   ]
  },
  {
   "cell_type": "markdown",
   "metadata": {},
   "source": [
    "Let's do it for something really bright, just to see all the points in the light curves"
   ]
  },
  {
   "cell_type": "code",
   "execution_count": 12,
   "metadata": {},
   "outputs": [],
   "source": [
    "data = bundle.metricValues.data[0]\n",
    "peakTime = 15\n",
    "transDuration = peakTime+30 # Days\n",
    "peaks = {'uPeak':20, 'gPeak':20, 'rPeak':20, 'iPeak':20, 'zPeak':20,'yPeak':20}\n",
    "transMetric = metrics.TransientMetric(riseSlope= 0, declineSlope=0, \n",
    "                                      transDuration=transDuration, peakTime=peakTime, \n",
    "                                      surveyDuration=10, **peaks)\n",
    "lc = transMetric.lightCurve((data['observationStartMJD']-dayZero) % transDuration, data['filter'])\n",
    "snr = utils.m52snr(lc,data['fiveSigmaDepth'])\n",
    "lc_err = 2.5*np.log10(1.+1./snr)"
   ]
  },
  {
   "cell_type": "code",
   "execution_count": 13,
   "metadata": {},
   "outputs": [
    {
     "name": "stdout",
     "output_type": "stream",
     "text": [
      "Fraction of LCs that meet criteria and plotted = 1/11\n"
     ]
    },
    {
     "data": {
      "image/png": "[encoded data removed]",
      "text/plain": [
       "<matplotlib.figure.Figure at 0x7fa7ed6130b8>"
      ]
     },
     "metadata": {},
     "output_type": "display_data"
    }
   ],
   "source": [
    "numOfLCs = np.ceil((data['observationStartMJD'].max()-data['observationStartMJD'].min())/transDuration)\n",
    "plotCounter = 0\n",
    "for lcn in np.arange(0,numOfLCs+1,1):\n",
    "    good = np.where(( data['observationStartMJD'] >= data['observationStartMJD'].min()+transDuration*lcn)\n",
    "                       & ( data['observationStartMJD'] <= data['observationStartMJD'].min()+transDuration*(1+lcn))\n",
    "                       & (snr > snrLimit))\n",
    "    if good[0].size >= nPtsLimit:\n",
    "        plotCounter += 1\n",
    "        plt.figure()\n",
    "        # Counter\n",
    "        numPoints = 0\n",
    "        for filterName in filters:\n",
    "            good = np.where((data['filter'] == filterName) & \n",
    "                            ( data['observationStartMJD'] >= data['observationStartMJD'].min()+transDuration*lcn)\n",
    "                           & ( data['observationStartMJD'] <= data['observationStartMJD'].min()+transDuration*(1+lcn))\n",
    "                           & (snr > snrLimit))\n",
    "            plt.errorbar(data['observationStartMJD'][good]-dayZero, lc[good], yerr=lc_err[good], \n",
    "                         c=colors[filterName], marker='o', linestyle='None')\n",
    "            numPoints += good[0].size\n",
    "        explodeDate=data['observationStartMJD'].min()+transDuration*lcn\n",
    "        plt.xlim([explodeDate-dayZero,explodeDate+transDuration-dayZero])\n",
    "        plt.xlabel('day')\n",
    "        plt.ylabel('mag')\n",
    "        plt.title('light curve #%i, %i points in curve ' % (lcn, numPoints))\n",
    "        \n",
    "print ('Fraction of LCs that meet criteria and plotted = %i/%i' % (plotCounter, numOfLCs))"
   ]
  }
 ],
 "metadata": {
  "kernelspec": {
   "display_name": "Python 3",
   "language": "python",
   "name": "python3"
  },
  "language_info": {
   "codemirror_mode": {
    "name": "ipython",
    "version": 3
   },
   "file_extension": ".py",
   "mimetype": "text/x-python",
   "name": "python",
   "nbconvert_exporter": "python",
   "pygments_lexer": "ipython3",
   "version": "3.6.3"
  }
 },
 "nbformat": 4,
 "nbformat_minor": 1
}
